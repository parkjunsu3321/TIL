{
 "cells": [
  {
   "cell_type": "markdown",
   "id": "16470d48",
   "metadata": {},
   "source": [
    "## MLflow "
   ]
  },
  {
   "cell_type": "code",
   "execution_count": 2,
   "id": "54d3d463",
   "metadata": {},
   "outputs": [
    {
     "name": "stderr",
     "output_type": "stream",
     "text": [
      "2025/10/04 17:31:06 WARNING mlflow.models.model: `artifact_path` is deprecated. Please use `name` instead.\n",
      "2025/10/04 17:31:11 WARNING mlflow.models.model: Model logged without a signature and input example. Please set `input_example` parameter when logging the model to auto infer the model signature.\n",
      "2025/10/04 17:31:11 WARNING mlflow.models.model: `artifact_path` is deprecated. Please use `name` instead.\n"
     ]
    },
    {
     "name": "stdout",
     "output_type": "stream",
     "text": [
      "Logged: n_estimators=10, max_depth=3, MSE=3036.8709, R2=0.4268\n"
     ]
    },
    {
     "name": "stderr",
     "output_type": "stream",
     "text": [
      "2025/10/04 17:31:16 WARNING mlflow.models.model: Model logged without a signature and input example. Please set `input_example` parameter when logging the model to auto infer the model signature.\n",
      "2025/10/04 17:31:17 WARNING mlflow.models.model: `artifact_path` is deprecated. Please use `name` instead.\n"
     ]
    },
    {
     "name": "stdout",
     "output_type": "stream",
     "text": [
      "Logged: n_estimators=10, max_depth=5, MSE=3207.3641, R2=0.3946\n"
     ]
    },
    {
     "name": "stderr",
     "output_type": "stream",
     "text": [
      "2025/10/04 17:31:21 WARNING mlflow.models.model: Model logged without a signature and input example. Please set `input_example` parameter when logging the model to auto infer the model signature.\n",
      "2025/10/04 17:31:22 WARNING mlflow.models.model: `artifact_path` is deprecated. Please use `name` instead.\n"
     ]
    },
    {
     "name": "stdout",
     "output_type": "stream",
     "text": [
      "Logged: n_estimators=10, max_depth=10, MSE=3074.7926, R2=0.4196\n"
     ]
    },
    {
     "name": "stderr",
     "output_type": "stream",
     "text": [
      "2025/10/04 17:31:26 WARNING mlflow.models.model: Model logged without a signature and input example. Please set `input_example` parameter when logging the model to auto infer the model signature.\n"
     ]
    },
    {
     "name": "stdout",
     "output_type": "stream",
     "text": [
      "Logged: n_estimators=10, max_depth=None, MSE=3135.2893, R2=0.4082\n"
     ]
    },
    {
     "name": "stderr",
     "output_type": "stream",
     "text": [
      "2025/10/04 17:31:27 WARNING mlflow.models.model: `artifact_path` is deprecated. Please use `name` instead.\n",
      "2025/10/04 17:31:31 WARNING mlflow.models.model: Model logged without a signature and input example. Please set `input_example` parameter when logging the model to auto infer the model signature.\n"
     ]
    },
    {
     "name": "stdout",
     "output_type": "stream",
     "text": [
      "Logged: n_estimators=50, max_depth=3, MSE=2863.2609, R2=0.4596\n"
     ]
    },
    {
     "name": "stderr",
     "output_type": "stream",
     "text": [
      "2025/10/04 17:31:32 WARNING mlflow.models.model: `artifact_path` is deprecated. Please use `name` instead.\n",
      "2025/10/04 17:31:37 WARNING mlflow.models.model: Model logged without a signature and input example. Please set `input_example` parameter when logging the model to auto infer the model signature.\n"
     ]
    },
    {
     "name": "stdout",
     "output_type": "stream",
     "text": [
      "Logged: n_estimators=50, max_depth=5, MSE=2960.8654, R2=0.4412\n"
     ]
    },
    {
     "name": "stderr",
     "output_type": "stream",
     "text": [
      "2025/10/04 17:31:37 WARNING mlflow.models.model: `artifact_path` is deprecated. Please use `name` instead.\n",
      "2025/10/04 17:31:43 WARNING mlflow.models.model: Model logged without a signature and input example. Please set `input_example` parameter when logging the model to auto infer the model signature.\n"
     ]
    },
    {
     "name": "stdout",
     "output_type": "stream",
     "text": [
      "Logged: n_estimators=50, max_depth=10, MSE=3064.4879, R2=0.4216\n"
     ]
    },
    {
     "name": "stderr",
     "output_type": "stream",
     "text": [
      "2025/10/04 17:31:44 WARNING mlflow.models.model: `artifact_path` is deprecated. Please use `name` instead.\n",
      "2025/10/04 17:31:49 WARNING mlflow.models.model: Model logged without a signature and input example. Please set `input_example` parameter when logging the model to auto infer the model signature.\n"
     ]
    },
    {
     "name": "stdout",
     "output_type": "stream",
     "text": [
      "Logged: n_estimators=50, max_depth=None, MSE=3044.1991, R2=0.4254\n"
     ]
    },
    {
     "name": "stderr",
     "output_type": "stream",
     "text": [
      "2025/10/04 17:31:50 WARNING mlflow.models.model: `artifact_path` is deprecated. Please use `name` instead.\n",
      "2025/10/04 17:31:55 WARNING mlflow.models.model: Model logged without a signature and input example. Please set `input_example` parameter when logging the model to auto infer the model signature.\n"
     ]
    },
    {
     "name": "stdout",
     "output_type": "stream",
     "text": [
      "Logged: n_estimators=100, max_depth=3, MSE=2812.7691, R2=0.4691\n"
     ]
    },
    {
     "name": "stderr",
     "output_type": "stream",
     "text": [
      "2025/10/04 17:31:55 WARNING mlflow.models.model: `artifact_path` is deprecated. Please use `name` instead.\n",
      "2025/10/04 17:32:01 WARNING mlflow.models.model: Model logged without a signature and input example. Please set `input_example` parameter when logging the model to auto infer the model signature.\n"
     ]
    },
    {
     "name": "stdout",
     "output_type": "stream",
     "text": [
      "Logged: n_estimators=100, max_depth=5, MSE=2881.5791, R2=0.4561\n"
     ]
    },
    {
     "name": "stderr",
     "output_type": "stream",
     "text": [
      "2025/10/04 17:32:01 WARNING mlflow.models.model: `artifact_path` is deprecated. Please use `name` instead.\n",
      "2025/10/04 17:32:06 WARNING mlflow.models.model: Model logged without a signature and input example. Please set `input_example` parameter when logging the model to auto infer the model signature.\n"
     ]
    },
    {
     "name": "stdout",
     "output_type": "stream",
     "text": [
      "Logged: n_estimators=100, max_depth=10, MSE=2974.1962, R2=0.4386\n"
     ]
    },
    {
     "name": "stderr",
     "output_type": "stream",
     "text": [
      "2025/10/04 17:32:06 WARNING mlflow.models.model: `artifact_path` is deprecated. Please use `name` instead.\n",
      "2025/10/04 17:32:11 WARNING mlflow.models.model: Model logged without a signature and input example. Please set `input_example` parameter when logging the model to auto infer the model signature.\n"
     ]
    },
    {
     "name": "stdout",
     "output_type": "stream",
     "text": [
      "Logged: n_estimators=100, max_depth=None, MSE=2952.0106, R2=0.4428\n"
     ]
    },
    {
     "name": "stderr",
     "output_type": "stream",
     "text": [
      "2025/10/04 17:32:12 WARNING mlflow.models.model: `artifact_path` is deprecated. Please use `name` instead.\n",
      "2025/10/04 17:32:16 WARNING mlflow.models.model: Model logged without a signature and input example. Please set `input_example` parameter when logging the model to auto infer the model signature.\n"
     ]
    },
    {
     "name": "stdout",
     "output_type": "stream",
     "text": [
      "Logged: n_estimators=200, max_depth=3, MSE=2774.2933, R2=0.4764\n"
     ]
    },
    {
     "name": "stderr",
     "output_type": "stream",
     "text": [
      "2025/10/04 17:32:17 WARNING mlflow.models.model: `artifact_path` is deprecated. Please use `name` instead.\n",
      "2025/10/04 17:32:22 WARNING mlflow.models.model: Model logged without a signature and input example. Please set `input_example` parameter when logging the model to auto infer the model signature.\n"
     ]
    },
    {
     "name": "stdout",
     "output_type": "stream",
     "text": [
      "Logged: n_estimators=200, max_depth=5, MSE=2860.3928, R2=0.4601\n"
     ]
    },
    {
     "name": "stderr",
     "output_type": "stream",
     "text": [
      "2025/10/04 17:32:22 WARNING mlflow.models.model: `artifact_path` is deprecated. Please use `name` instead.\n",
      "2025/10/04 17:32:27 WARNING mlflow.models.model: Model logged without a signature and input example. Please set `input_example` parameter when logging the model to auto infer the model signature.\n"
     ]
    },
    {
     "name": "stdout",
     "output_type": "stream",
     "text": [
      "Logged: n_estimators=200, max_depth=10, MSE=3004.9652, R2=0.4328\n"
     ]
    },
    {
     "name": "stderr",
     "output_type": "stream",
     "text": [
      "2025/10/04 17:32:28 WARNING mlflow.models.model: `artifact_path` is deprecated. Please use `name` instead.\n",
      "2025/10/04 17:32:32 WARNING mlflow.models.model: Model logged without a signature and input example. Please set `input_example` parameter when logging the model to auto infer the model signature.\n"
     ]
    },
    {
     "name": "stdout",
     "output_type": "stream",
     "text": [
      "Logged: n_estimators=200, max_depth=None, MSE=2966.0242, R2=0.4402\n"
     ]
    }
   ],
   "source": [
    "import mlflow\n",
    "import mlflow.sklearn\n",
    "import numpy as np\n",
    "import pandas as pd\n",
    "import matplotlib.pyplot as plt\n",
    "from sklearn.model_selection import train_test_split\n",
    "from sklearn.datasets import load_diabetes\n",
    "from sklearn.ensemble import RandomForestRegressor\n",
    "from sklearn.metrics import mean_squared_error, r2_score\n",
    "\n",
    "# 데이터 로드\n",
    "data = load_diabetes()\n",
    "X_train, X_test, y_train, y_test = train_test_split(data.data, data.target, test_size=0.2, random_state=42)\n",
    "\n",
    "# MLflow 실험 설정\n",
    "mlflow.set_experiment(\"RandomForest test\")\n",
    "\n",
    "# 여러 하이퍼파라미터를 변경하며 실험\n",
    "n_estimators_list = [10, 50, 100, 200]\n",
    "max_depth_list = [3, 5, 10, None]\n",
    "\n",
    "for n_estimators in n_estimators_list:\n",
    "    for max_depth in max_depth_list:\n",
    "        with mlflow.start_run():\n",
    "            # 모델 학습\n",
    "            model = RandomForestRegressor(n_estimators=n_estimators, max_depth=max_depth, random_state=42)\n",
    "            model.fit(X_train, y_train)\n",
    "            \n",
    "            # 예측 및 평가\n",
    "            y_pred = model.predict(X_test)\n",
    "            mse = mean_squared_error(y_test, y_pred)\n",
    "            r2 = r2_score(y_test, y_pred)\n",
    "\n",
    "            # MLflow에 로그 기록\n",
    "            mlflow.log_param(\"n_estimators\", n_estimators)\n",
    "            mlflow.log_param(\"max_depth\", max_depth)\n",
    "            mlflow.log_metric(\"mse\", mse)\n",
    "            mlflow.log_metric(\"r2_score\", r2)\n",
    "\n",
    "            # 모델 저장\n",
    "            mlflow.sklearn.log_model(model, \"random_forest_model\")\n",
    "\n",
    "            # 그래프 생성 및 저장\n",
    "            plt.figure(figsize=(6, 4))\n",
    "            plt.scatter(y_test, y_pred, alpha=0.6, color=\"blue\")\n",
    "            plt.plot([y_test.min(), y_test.max()], [y_test.min(), y_test.max()], '--r', linewidth=2)\n",
    "            plt.xlabel(\"Actual\")\n",
    "            plt.ylabel(\"Predicted\")\n",
    "            plt.title(f\"Prediction Scatter Plot (n={n_estimators}, depth={max_depth})\")\n",
    "            plt.savefig(\"scatter_plot.png\")\n",
    "            plt.close()\n",
    "\n",
    "            mlflow.log_artifact(\"scatter_plot.png\")  # MLflow에 그래프 저장\n",
    "\n",
    "            print(f\"Logged: n_estimators={n_estimators}, max_depth={max_depth}, MSE={mse:.4f}, R2={r2:.4f}\")"
   ]
  },
  {
   "cell_type": "code",
   "execution_count": null,
   "id": "4eb46f34",
   "metadata": {},
   "outputs": [
    {
     "name": "stdout",
     "output_type": "stream",
     "text": [
      "^C\n"
     ]
    }
   ],
   "source": [
    "import subprocess\n",
    "\n",
    "process = subprocess.Popen([\"mlflow\", \"ui\", \"--port\", \"5000\"])\n",
    "\n",
    "print(\"✅ MLflow UI is running at http://127.0.0.1:5000\")"
   ]
  },
  {
   "cell_type": "markdown",
   "id": "dbaea4cb",
   "metadata": {},
   "source": [
    "## Best Run"
   ]
  },
  {
   "cell_type": "code",
   "execution_count": 8,
   "id": "8674cbb8",
   "metadata": {},
   "outputs": [
    {
     "name": "stdout",
     "output_type": "stream",
     "text": [
      "Best Run ID: 3b353c5f9828464b92c009482c63cd68\n",
      "Best Params: {'max_depth': '3', 'n_estimators': '200'}\n",
      "Best Metrics: {'mse': 2774.293307657063, 'r2_score': 0.4763658273031117}\n"
     ]
    }
   ],
   "source": [
    "from mlflow.tracking import MlflowClient\n",
    "\n",
    "client = MlflowClient()\n",
    "experiment = client.get_experiment_by_name(\"RandomForest test\")\n",
    "runs = client.search_runs(experiment.experiment_id, order_by=[\"metrics.r2_score DESC\"], max_results=1)\n",
    "\n",
    "best_run = runs[0]\n",
    "print(\"Best Run ID:\", best_run.info.run_id)\n",
    "print(\"Best Params:\", best_run.data.params)\n",
    "print(\"Best Metrics:\", best_run.data.metrics)"
   ]
  },
  {
   "cell_type": "markdown",
   "id": "ab4a1a00",
   "metadata": {},
   "source": [
    "## 모델 로드 및 재사용"
   ]
  },
  {
   "cell_type": "code",
   "execution_count": 9,
   "id": "269852d7",
   "metadata": {},
   "outputs": [
    {
     "name": "stdout",
     "output_type": "stream",
     "text": [
      "Best Run ID: 3b353c5f9828464b92c009482c63cd68\n",
      "Best Params: {'max_depth': '3', 'n_estimators': '200'}\n",
      "Best Metrics: {'mse': 2774.293307657063, 'r2_score': 0.4763658273031117}\n"
     ]
    }
   ],
   "source": [
    "from mlflow.tracking import MlflowClient\n",
    "\n",
    "client = MlflowClient()\n",
    "experiment = client.get_experiment_by_name(\"RandomForest test\")\n",
    "runs = client.search_runs(experiment.experiment_id, order_by=[\"metrics.r2_score DESC\"], max_results=1)\n",
    "\n",
    "best_run = runs[0]\n",
    "print(\"Best Run ID:\", best_run.info.run_id)\n",
    "print(\"Best Params:\", best_run.data.params)\n",
    "print(\"Best Metrics:\", best_run.data.metrics)"
   ]
  },
  {
   "cell_type": "markdown",
   "id": "2a30d8e1",
   "metadata": {},
   "source": [
    "## 모델 레지스트리에 등록"
   ]
  },
  {
   "cell_type": "code",
   "execution_count": 10,
   "id": "e8a6dd51",
   "metadata": {},
   "outputs": [
    {
     "name": "stderr",
     "output_type": "stream",
     "text": [
      "Successfully registered model 'RandomForestRegressor'.\n",
      "2025/10/04 18:54:19 WARNING mlflow.tracking._model_registry.fluent: Run with id 3b353c5f9828464b92c009482c63cd68 has no artifacts at artifact path 'random_forest_model', registering model based on models:/m-6a02ee28f6104938b921c19672cf0d0c instead\n",
      "Created version '1' of model 'RandomForestRegressor'.\n"
     ]
    }
   ],
   "source": [
    "result = mlflow.register_model(\n",
    "    f\"runs:/{best_run.info.run_id}/random_forest_model\",\n",
    "    \"RandomForestRegressor\"\n",
    ")\n",
    "run_id = best_run.info.run_id"
   ]
  },
  {
   "cell_type": "code",
   "execution_count": 16,
   "id": "0eacce67",
   "metadata": {},
   "outputs": [
    {
     "name": "stdout",
     "output_type": "stream",
     "text": [
      "MLflow model serving started at http://127.0.0.1:1234\n"
     ]
    }
   ],
   "source": [
    "import subprocess\n",
    "\n",
    "run_id = \"3b353c5f9828464b92c009482c63cd68\"\n",
    "\n",
    "cmd = [\n",
    "    \"mlflow\", \"models\", \"serve\",\n",
    "    \"-m\", f\"runs:/{run_id}/random_forest_model\",\n",
    "    \"-p\", \"1234\",\n",
    "    \"--env-manager=local\"\n",
    "]\n",
    "\n",
    "# 백그라운드 실행\n",
    "process = subprocess.Popen(cmd)\n",
    "print(f\"MLflow model serving started at http://127.0.0.1:1234\")"
   ]
  },
  {
   "cell_type": "code",
   "execution_count": 18,
   "id": "e8c10eb2",
   "metadata": {},
   "outputs": [
    {
     "name": "stderr",
     "output_type": "stream",
     "text": [
      "2025/10/04 19:00:20 WARNING mlflow.models.model: `artifact_path` is deprecated. Please use `name` instead.\n",
      "2025/10/04 19:00:25 WARNING mlflow.models.model: Model logged without a signature and input example. Please set `input_example` parameter when logging the model to auto infer the model signature.\n",
      "Registered model 'RandomForestRegressor' already exists. Creating a new version of this model...\n",
      "Created version '2' of model 'RandomForestRegressor'.\n"
     ]
    },
    {
     "data": {
      "text/plain": [
       "<mlflow.models.model.ModelInfo at 0x1c60b0093c0>"
      ]
     },
     "execution_count": 18,
     "metadata": {},
     "output_type": "execute_result"
    }
   ],
   "source": [
    "import mlflow\n",
    "import mlflow.sklearn\n",
    "\n",
    "# 모델 학습 후 등록\n",
    "mlflow.sklearn.log_model(\n",
    "    sk_model=model,\n",
    "    artifact_path=\"random_forest_model\",\n",
    "    registered_model_name=\"RandomForestRegressor\"\n",
    ")"
   ]
  },
  {
   "cell_type": "code",
   "execution_count": null,
   "id": "133f31ea",
   "metadata": {},
   "outputs": [
    {
     "name": "stderr",
     "output_type": "stream",
     "text": [
      "Registered model 'RandomForestRegressor' already exists. Creating a new version of this model...\n",
      "2025/10/04 19:00:59 WARNING mlflow.tracking._model_registry.fluent: Run with id d361a6c7651a4ec7a57c735e951323ce has no artifacts at artifact path 'random_forest_model', registering model based on models:/m-b04ec326593f4d96b5df4bfc0395c618 instead\n"
     ]
    },
    {
     "name": "stdout",
     "output_type": "stream",
     "text": [
      "Best run_id: d361a6c7651a4ec7a57c735e951323ce\n",
      "Best RMSE: 2966.0241980337078\n",
      "Registered model version: 3\n",
      "✅ Champion model updated to version 3\n"
     ]
    },
    {
     "name": "stderr",
     "output_type": "stream",
     "text": [
      "Created version '3' of model 'RandomForestRegressor'.\n"
     ]
    }
   ],
   "source": [
    "import mlflow\n",
    "from mlflow import MlflowClient\n",
    "from sklearn.metrics import mean_squared_error\n",
    "import numpy as np\n",
    "\n",
    "client = MlflowClient()\n",
    "experiment = client.get_experiment_by_name(\"RandomForest test\")\n",
    "experiment_id = experiment.experiment_id\n",
    "\n",
    "runs = client.search_runs(\n",
    "    experiment_ids=[experiment_id],\n",
    "    order_by=[\"metrics.rmse ASC\"],\n",
    "    max_results=1\n",
    ")\n",
    "\n",
    "best_run = runs[0]\n",
    "best_run_id = best_run.info.run_id\n",
    "print(\"Best run_id:\", best_run_id)\n",
    "print(\"Best RMSE:\", best_run.data.metrics[\"mse\"])\n",
    "\n",
    "model_name = \"RandomForestRegressor\"\n",
    "model_uri = f\"runs:/{best_run_id}/random_forest_model\"\n",
    "\n",
    "mv = mlflow.register_model(model_uri=model_uri, name=model_name)\n",
    "print(f\"Registered model version: {mv.version}\")\n",
    "\n",
    "client.set_registered_model_alias(model_name, \"champion\", mv.version)\n",
    "print(f\"✅ Champion model updated to version {mv.version}\")"
   ]
  },
  {
   "cell_type": "code",
   "execution_count": 22,
   "id": "3a8fb6b5",
   "metadata": {},
   "outputs": [
    {
     "name": "stdout",
     "output_type": "stream",
     "text": [
      "Champion model prediction: [228.705]\n"
     ]
    }
   ],
   "source": [
    "import mlflow\n",
    "\n",
    "# champion alias로 불러오기\n",
    "champion_model = mlflow.sklearn.load_model(\"models:/RandomForestRegressor@champion\")\n",
    "\n",
    "# 예측\n",
    "sample = [[0.03807591, 0.05068012, 0.06169621, 0.02187235, -0.0442235,\n",
    "           -0.03482076, -0.04340085, -0.00259226, 0.01990749, -0.01764613]]\n",
    "pred = champion_model.predict(sample)\n",
    "\n",
    "print(\"Champion model prediction:\", pred)"
   ]
  },
  {
   "cell_type": "code",
   "execution_count": null,
   "id": "5b2cb02e",
   "metadata": {},
   "outputs": [],
   "source": []
  }
 ],
 "metadata": {
  "kernelspec": {
   "display_name": "mlflow_env",
   "language": "python",
   "name": "python3"
  },
  "language_info": {
   "codemirror_mode": {
    "name": "ipython",
    "version": 3
   },
   "file_extension": ".py",
   "mimetype": "text/x-python",
   "name": "python",
   "nbconvert_exporter": "python",
   "pygments_lexer": "ipython3",
   "version": "3.10.18"
  }
 },
 "nbformat": 4,
 "nbformat_minor": 5
}
